{
 "cells": [
  {
   "cell_type": "code",
   "execution_count": 22,
   "metadata": {},
   "outputs": [],
   "source": [
    "import numpy as np"
   ]
  },
  {
   "cell_type": "code",
   "execution_count": 23,
   "metadata": {},
   "outputs": [],
   "source": [
    "from sklearn import model_selection"
   ]
  },
  {
   "cell_type": "code",
   "execution_count": 24,
   "metadata": {},
   "outputs": [],
   "source": [
    "\n",
    "x_test=np.loadtxt(\"test_boston_x_test.csv\",delimiter=\",\")"
   ]
  },
  {
   "cell_type": "code",
   "execution_count": 25,
   "metadata": {},
   "outputs": [],
   "source": [
    "def cost(x_train,y_train,m):\n",
    "    total_cost=0\n",
    "    N=len(x_train)\n",
    "    for i in range(N):\n",
    "         for j in range(14):\n",
    "                if(j!=13):\n",
    "                    x=x_train[i,j]\n",
    "                else:\n",
    "                    x=1\n",
    "                \n",
    "                y=y_train[i]\n",
    "                total_cost+=(1/N)*((y-m[j]*x)**2)\n",
    "    return total_cost"
   ]
  },
  {
   "cell_type": "code",
   "execution_count": 26,
   "metadata": {},
   "outputs": [],
   "source": [
    "import pandas as pd"
   ]
  },
  {
   "cell_type": "code",
   "execution_count": 27,
   "metadata": {},
   "outputs": [],
   "source": [
    "def step_gradient(x_train,y_train,learning_rate,m):\n",
    "    m_slope=[0,0,0,0,0,0,0,0,0,0,0,0,0,0]\n",
    "    new_m=[0,0,0,0,0,0,0,0,0,0,0,0,0,0]\n",
    "    N=len(x_train)\n",
    "    temp=[0 for j in range(N)]\n",
    "    for i in range(N):\n",
    "        for j in range(14):\n",
    "            if(j!=13):\n",
    "                    x=x_train[i,j]\n",
    "            else:\n",
    "                    x=1\n",
    "            temp[i]+=m[j]*x*(-1)\n",
    "    for i in range(N):\n",
    "        temp[i]+=y_train[i]\n",
    "    \n",
    "    for i in range(N):\n",
    "        for j in range(14):\n",
    "                if(j!=13):\n",
    "                    x=x_train[i,j]\n",
    "                else:\n",
    "                    x=1\n",
    "                \n",
    "                y=y_train[i]\n",
    "                m_slope[j]+=(-2/N)*(temp[i])*x\n",
    "            \n",
    "    for j in range(14):\n",
    "        new_m[j]=m[j]-learning_rate*m_slope[j]\n",
    "    return new_m    "
   ]
  },
  {
   "cell_type": "code",
   "execution_count": 28,
   "metadata": {},
   "outputs": [],
   "source": [
    "def gd(x_train,y_train,learning_rate,num_iterations):\n",
    "    m=[0,0,0,0,0,0,0,0,0,0,0,0,0,0]\n",
    "    for i in range(num_iterations):\n",
    "        m=step_gradient(x_train,y_train,learning_rate,m)\n",
    " \n",
    "    return m\n"
   ]
  },
  {
   "cell_type": "code",
   "execution_count": 29,
   "metadata": {},
   "outputs": [],
   "source": [
    "def run(x_test):\n",
    "    \n",
    "    data=np.loadtxt(\"training_boston_x_y_train.csv\",delimiter=\",\")\n",
    "    y_pred=[0 for j in range(len(x_test))]\n",
    "    learning_rate=0.01\n",
    "    num_iterations=500\n",
    "    x_train=data[:,0:13]\n",
    "    y_train=data[:,13]\n",
    "    m=gd(x_train,y_train,learning_rate,num_iterations)\n",
    "    for i in range(len(x_test)):\n",
    "        for j in range(14):\n",
    "                if( j!=13):\n",
    "                    x=x_test[i,j]\n",
    "                else:\n",
    "                    x=1\n",
    "                y_pred[i]+=m[j]*x\n",
    "        \n",
    "    np.savetxt(\"bostonresultfile.csv\",y_pred,fmt=\"%.5f\")\n"
   ]
  },
  {
   "cell_type": "code",
   "execution_count": 30,
   "metadata": {},
   "outputs": [],
   "source": [
    "run(x_test)\n"
   ]
  },
  {
   "cell_type": "code",
   "execution_count": null,
   "metadata": {},
   "outputs": [],
   "source": []
  },
  {
   "cell_type": "code",
   "execution_count": null,
   "metadata": {},
   "outputs": [],
   "source": []
  },
  {
   "cell_type": "code",
   "execution_count": null,
   "metadata": {},
   "outputs": [],
   "source": []
  }
 ],
 "metadata": {
  "kernelspec": {
   "display_name": "Python 3",
   "language": "python",
   "name": "python3"
  },
  "language_info": {
   "codemirror_mode": {
    "name": "ipython",
    "version": 3
   },
   "file_extension": ".py",
   "mimetype": "text/x-python",
   "name": "python",
   "nbconvert_exporter": "python",
   "pygments_lexer": "ipython3",
   "version": "3.6.4"
  }
 },
 "nbformat": 4,
 "nbformat_minor": 2
}
